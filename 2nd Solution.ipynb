{
 "cells": [
  {
   "cell_type": "markdown",
   "metadata": {},
   "source": [
    "## Code Saved"
   ]
  },
  {
   "cell_type": "code",
   "execution_count": 1,
   "metadata": {},
   "outputs": [],
   "source": [
    "import pandas as pd\n",
    "import numpy as np\n",
    "import seaborn as sns\n",
    "import matplotlib.pyplot as plt\n",
    "%matplotlib inline\n",
    "from warnings import filterwarnings\n",
    "filterwarnings('ignore')"
   ]
  },
  {
   "cell_type": "code",
   "execution_count": 2,
   "metadata": {},
   "outputs": [],
   "source": [
    "dftrain=pd.read_csv('Merged_final.csv')\n",
    "dftest=pd.read_csv('Compiled file test.csv')"
   ]
  },
  {
   "cell_type": "code",
   "execution_count": 3,
   "metadata": {},
   "outputs": [
    {
     "data": {
      "text/plain": [
       "(22862, 17)"
      ]
     },
     "execution_count": 3,
     "metadata": {},
     "output_type": "execute_result"
    }
   ],
   "source": [
    "dftrain.shape"
   ]
  },
  {
   "cell_type": "code",
   "execution_count": 4,
   "metadata": {},
   "outputs": [
    {
     "data": {
      "text/plain": [
       "(90675, 13)"
      ]
     },
     "execution_count": 4,
     "metadata": {},
     "output_type": "execute_result"
    }
   ],
   "source": [
    "dftest.shape"
   ]
  },
  {
   "cell_type": "code",
   "execution_count": 5,
   "metadata": {},
   "outputs": [
    {
     "data": {
      "text/html": [
       "<div>\n",
       "<style scoped>\n",
       "    .dataframe tbody tr th:only-of-type {\n",
       "        vertical-align: middle;\n",
       "    }\n",
       "\n",
       "    .dataframe tbody tr th {\n",
       "        vertical-align: top;\n",
       "    }\n",
       "\n",
       "    .dataframe thead th {\n",
       "        text-align: right;\n",
       "    }\n",
       "</style>\n",
       "<table border=\"1\" class=\"dataframe\">\n",
       "  <thead>\n",
       "    <tr style=\"text-align: right;\">\n",
       "      <th></th>\n",
       "      <th>Unnamed: 0</th>\n",
       "      <th>impression_id</th>\n",
       "      <th>impression_time</th>\n",
       "      <th>user_id</th>\n",
       "      <th>app_code</th>\n",
       "      <th>is_4G</th>\n",
       "      <th>is_click</th>\n",
       "      <th>count_item_id</th>\n",
       "      <th>item_id</th>\n",
       "      <th>os_version_intermediate</th>\n",
       "      <th>os_version_latest</th>\n",
       "      <th>os_version_old</th>\n",
       "      <th>device_type_android</th>\n",
       "      <th>device_type_iphone</th>\n",
       "      <th>AverageCost</th>\n",
       "      <th>MinCost</th>\n",
       "      <th>MaxCost</th>\n",
       "    </tr>\n",
       "  </thead>\n",
       "  <tbody>\n",
       "    <tr>\n",
       "      <th>0</th>\n",
       "      <td>0</td>\n",
       "      <td>45c48cce2e2d7fbdea1afc51c7c6ad26</td>\n",
       "      <td>2018-11-15 00:01:00</td>\n",
       "      <td>63410</td>\n",
       "      <td>467</td>\n",
       "      <td>1</td>\n",
       "      <td>1</td>\n",
       "      <td>12</td>\n",
       "      <td>43209, 66370, 43209, 43209, 71877, 43209, 4320...</td>\n",
       "      <td>0</td>\n",
       "      <td>1</td>\n",
       "      <td>0</td>\n",
       "      <td>1</td>\n",
       "      <td>0</td>\n",
       "      <td>4452.833333</td>\n",
       "      <td>1024</td>\n",
       "      <td>14166</td>\n",
       "    </tr>\n",
       "    <tr>\n",
       "      <th>1</th>\n",
       "      <td>1</td>\n",
       "      <td>43ec517d68b6edd3015b3edc9a11367b</td>\n",
       "      <td>2018-11-15 00:06:00</td>\n",
       "      <td>74339</td>\n",
       "      <td>481</td>\n",
       "      <td>0</td>\n",
       "      <td>1</td>\n",
       "      <td>61</td>\n",
       "      <td>100847, 117590, 6131, 78766, 129770, 13924, 11...</td>\n",
       "      <td>0</td>\n",
       "      <td>0</td>\n",
       "      <td>1</td>\n",
       "      <td>1</td>\n",
       "      <td>0</td>\n",
       "      <td>13973.377049</td>\n",
       "      <td>377</td>\n",
       "      <td>209024</td>\n",
       "    </tr>\n",
       "    <tr>\n",
       "      <th>2</th>\n",
       "      <td>2</td>\n",
       "      <td>42998cf32d552343bc8e460416382dca</td>\n",
       "      <td>2018-11-15 00:42:00</td>\n",
       "      <td>81926</td>\n",
       "      <td>249</td>\n",
       "      <td>0</td>\n",
       "      <td>1</td>\n",
       "      <td>138</td>\n",
       "      <td>84085, 44104, 18653, 44104, 131433, 4907, 7615...</td>\n",
       "      <td>0</td>\n",
       "      <td>1</td>\n",
       "      <td>0</td>\n",
       "      <td>1</td>\n",
       "      <td>0</td>\n",
       "      <td>6876.427536</td>\n",
       "      <td>166</td>\n",
       "      <td>182144</td>\n",
       "    </tr>\n",
       "  </tbody>\n",
       "</table>\n",
       "</div>"
      ],
      "text/plain": [
       "   Unnamed: 0                     impression_id      impression_time  user_id  \\\n",
       "0           0  45c48cce2e2d7fbdea1afc51c7c6ad26  2018-11-15 00:01:00    63410   \n",
       "1           1  43ec517d68b6edd3015b3edc9a11367b  2018-11-15 00:06:00    74339   \n",
       "2           2  42998cf32d552343bc8e460416382dca  2018-11-15 00:42:00    81926   \n",
       "\n",
       "   app_code  is_4G  is_click  count_item_id  \\\n",
       "0       467      1         1             12   \n",
       "1       481      0         1             61   \n",
       "2       249      0         1            138   \n",
       "\n",
       "                                             item_id  os_version_intermediate  \\\n",
       "0  43209, 66370, 43209, 43209, 71877, 43209, 4320...                        0   \n",
       "1  100847, 117590, 6131, 78766, 129770, 13924, 11...                        0   \n",
       "2  84085, 44104, 18653, 44104, 131433, 4907, 7615...                        0   \n",
       "\n",
       "   os_version_latest  os_version_old  device_type_android  device_type_iphone  \\\n",
       "0                  1               0                    1                   0   \n",
       "1                  0               1                    1                   0   \n",
       "2                  1               0                    1                   0   \n",
       "\n",
       "    AverageCost  MinCost  MaxCost  \n",
       "0   4452.833333     1024    14166  \n",
       "1  13973.377049      377   209024  \n",
       "2   6876.427536      166   182144  "
      ]
     },
     "execution_count": 5,
     "metadata": {},
     "output_type": "execute_result"
    }
   ],
   "source": [
    "dftrain.head(3)"
   ]
  },
  {
   "cell_type": "code",
   "execution_count": 6,
   "metadata": {},
   "outputs": [
    {
     "data": {
      "text/html": [
       "<div>\n",
       "<style scoped>\n",
       "    .dataframe tbody tr th:only-of-type {\n",
       "        vertical-align: middle;\n",
       "    }\n",
       "\n",
       "    .dataframe tbody tr th {\n",
       "        vertical-align: top;\n",
       "    }\n",
       "\n",
       "    .dataframe thead th {\n",
       "        text-align: right;\n",
       "    }\n",
       "</style>\n",
       "<table border=\"1\" class=\"dataframe\">\n",
       "  <thead>\n",
       "    <tr style=\"text-align: right;\">\n",
       "      <th></th>\n",
       "      <th>Unnamed: 0</th>\n",
       "      <th>Unnamed: 0.1</th>\n",
       "      <th>impression_id</th>\n",
       "      <th>impression_time</th>\n",
       "      <th>user_id</th>\n",
       "      <th>app_code</th>\n",
       "      <th>os_version</th>\n",
       "      <th>is_4G</th>\n",
       "      <th>count</th>\n",
       "      <th>item_id</th>\n",
       "      <th>AverageCost</th>\n",
       "      <th>MinCost</th>\n",
       "      <th>MaxCost</th>\n",
       "    </tr>\n",
       "  </thead>\n",
       "  <tbody>\n",
       "    <tr>\n",
       "      <th>0</th>\n",
       "      <td>0</td>\n",
       "      <td>0</td>\n",
       "      <td>a9e7126a585a69a32bc7414e9d0c0ada</td>\n",
       "      <td>2018-12-13 07:44:00</td>\n",
       "      <td>44754</td>\n",
       "      <td>127</td>\n",
       "      <td>latest</td>\n",
       "      <td>1</td>\n",
       "      <td>1</td>\n",
       "      <td>128995</td>\n",
       "      <td>23424.000000</td>\n",
       "      <td>23424</td>\n",
       "      <td>23424</td>\n",
       "    </tr>\n",
       "    <tr>\n",
       "      <th>1</th>\n",
       "      <td>1</td>\n",
       "      <td>1</td>\n",
       "      <td>caac14a5bf2ba283db7708bb34855760</td>\n",
       "      <td>2018-12-13 07:45:00</td>\n",
       "      <td>29656</td>\n",
       "      <td>44</td>\n",
       "      <td>latest</td>\n",
       "      <td>0</td>\n",
       "      <td>72</td>\n",
       "      <td>55912, 80771, 80771, 8365, 8365, 8365, 75146, ...</td>\n",
       "      <td>10752.375000</td>\n",
       "      <td>207</td>\n",
       "      <td>54681</td>\n",
       "    </tr>\n",
       "    <tr>\n",
       "      <th>2</th>\n",
       "      <td>2</td>\n",
       "      <td>2</td>\n",
       "      <td>13f10ba306a19ce7bec2f3cae507b698</td>\n",
       "      <td>2018-12-13 07:46:00</td>\n",
       "      <td>25234</td>\n",
       "      <td>296</td>\n",
       "      <td>latest</td>\n",
       "      <td>1</td>\n",
       "      <td>9</td>\n",
       "      <td>94943, 79328, 103001, 69943, 10379, 10379, 109...</td>\n",
       "      <td>4974.555556</td>\n",
       "      <td>1238</td>\n",
       "      <td>20309</td>\n",
       "    </tr>\n",
       "  </tbody>\n",
       "</table>\n",
       "</div>"
      ],
      "text/plain": [
       "   Unnamed: 0  Unnamed: 0.1                     impression_id  \\\n",
       "0           0             0  a9e7126a585a69a32bc7414e9d0c0ada   \n",
       "1           1             1  caac14a5bf2ba283db7708bb34855760   \n",
       "2           2             2  13f10ba306a19ce7bec2f3cae507b698   \n",
       "\n",
       "       impression_time  user_id  app_code os_version  is_4G  count  \\\n",
       "0  2018-12-13 07:44:00    44754       127     latest      1      1   \n",
       "1  2018-12-13 07:45:00    29656        44     latest      0     72   \n",
       "2  2018-12-13 07:46:00    25234       296     latest      1      9   \n",
       "\n",
       "                                             item_id   AverageCost  MinCost  \\\n",
       "0                                             128995  23424.000000    23424   \n",
       "1  55912, 80771, 80771, 8365, 8365, 8365, 75146, ...  10752.375000      207   \n",
       "2  94943, 79328, 103001, 69943, 10379, 10379, 109...   4974.555556     1238   \n",
       "\n",
       "   MaxCost  \n",
       "0    23424  \n",
       "1    54681  \n",
       "2    20309  "
      ]
     },
     "execution_count": 6,
     "metadata": {},
     "output_type": "execute_result"
    }
   ],
   "source": [
    "dftest.head(3)"
   ]
  },
  {
   "cell_type": "code",
   "execution_count": 7,
   "metadata": {},
   "outputs": [
    {
     "data": {
      "text/plain": [
       "Index(['Unnamed: 0', 'impression_id', 'impression_time', 'user_id', 'app_code',\n",
       "       'is_4G', 'is_click', 'count_item_id', 'item_id',\n",
       "       'os_version_intermediate', 'os_version_latest', 'os_version_old',\n",
       "       'device_type_android', 'device_type_iphone', 'AverageCost', 'MinCost',\n",
       "       'MaxCost'],\n",
       "      dtype='object')"
      ]
     },
     "execution_count": 7,
     "metadata": {},
     "output_type": "execute_result"
    }
   ],
   "source": [
    "dftrain.columns"
   ]
  },
  {
   "cell_type": "code",
   "execution_count": 8,
   "metadata": {},
   "outputs": [
    {
     "data": {
      "text/plain": [
       "Index(['impression_id', 'impression_time', 'user_id', 'app_code', 'is_4G',\n",
       "       'is_click', 'count_item_id', 'item_id', 'os_version_intermediate',\n",
       "       'os_version_latest', 'os_version_old', 'AverageCost', 'MinCost',\n",
       "       'MaxCost'],\n",
       "      dtype='object')"
      ]
     },
     "execution_count": 8,
     "metadata": {},
     "output_type": "execute_result"
    }
   ],
   "source": [
    "# cols=['impression_id', 'impression_time', 'user_id', 'app_code',\n",
    "#        'os_version', 'is_4G',  'count', 'item_id', 'AverageCost',\n",
    "#        'MinCost', 'MaxCost','is_click']\n",
    "# dftrain=dftrain[cols]\n",
    "# dftrain.head(3)\n",
    "dftrain=dftrain.drop(['Unnamed: 0','device_type_iphone','device_type_android'],axis=1)\n",
    "dftrain.columns"
   ]
  },
  {
   "cell_type": "code",
   "execution_count": 9,
   "metadata": {},
   "outputs": [
    {
     "data": {
      "text/plain": [
       "Index(['Unnamed: 0', 'Unnamed: 0.1', 'impression_id', 'impression_time',\n",
       "       'user_id', 'app_code', 'os_version', 'is_4G', 'count', 'item_id',\n",
       "       'AverageCost', 'MinCost', 'MaxCost'],\n",
       "      dtype='object')"
      ]
     },
     "execution_count": 9,
     "metadata": {},
     "output_type": "execute_result"
    }
   ],
   "source": [
    "dftest.columns"
   ]
  },
  {
   "cell_type": "code",
   "execution_count": 10,
   "metadata": {
    "scrolled": true
   },
   "outputs": [
    {
     "data": {
      "text/plain": [
       "Index(['impression_id', 'impression_time', 'user_id', 'app_code', 'os_version',\n",
       "       'is_4G', 'count', 'item_id', 'AverageCost', 'MinCost', 'MaxCost'],\n",
       "      dtype='object')"
      ]
     },
     "execution_count": 10,
     "metadata": {},
     "output_type": "execute_result"
    }
   ],
   "source": [
    "# col=['impression_id', 'impression_time',\n",
    "#        'user_id', 'app_code', 'os_version', 'is_4G', 'count', 'item_id',\n",
    "#        'AverageCost', 'MinCost', 'MaxCost']\n",
    "# dftest=dftest[col]\n",
    "# dftest.head(3)\n",
    "dftest=dftest.drop(['Unnamed: 0','Unnamed: 0.1'],axis=1)\n",
    "dftest.columns"
   ]
  },
  {
   "cell_type": "code",
   "execution_count": 11,
   "metadata": {},
   "outputs": [],
   "source": [
    "dftest=dftest.rename(columns={'count':'count_item_id'})"
   ]
  },
  {
   "cell_type": "code",
   "execution_count": 12,
   "metadata": {},
   "outputs": [],
   "source": [
    "dftest=pd.get_dummies(dftest,columns=['os_version'])"
   ]
  },
  {
   "cell_type": "code",
   "execution_count": 13,
   "metadata": {},
   "outputs": [
    {
     "data": {
      "text/plain": [
       "(90675, 13)"
      ]
     },
     "execution_count": 13,
     "metadata": {},
     "output_type": "execute_result"
    }
   ],
   "source": [
    "dftest.shape"
   ]
  },
  {
   "cell_type": "code",
   "execution_count": 14,
   "metadata": {},
   "outputs": [
    {
     "data": {
      "text/plain": [
       "(Index(['impression_id', 'impression_time', 'user_id', 'app_code', 'is_4G',\n",
       "        'is_click', 'count_item_id', 'item_id', 'os_version_intermediate',\n",
       "        'os_version_latest', 'os_version_old', 'AverageCost', 'MinCost',\n",
       "        'MaxCost'],\n",
       "       dtype='object'),\n",
       " Index(['impression_id', 'impression_time', 'user_id', 'app_code', 'is_4G',\n",
       "        'count_item_id', 'item_id', 'AverageCost', 'MinCost', 'MaxCost',\n",
       "        'os_version_intermediate', 'os_version_latest', 'os_version_old'],\n",
       "       dtype='object'))"
      ]
     },
     "execution_count": 14,
     "metadata": {},
     "output_type": "execute_result"
    }
   ],
   "source": [
    "dftrain.columns,dftest.columns"
   ]
  },
  {
   "cell_type": "code",
   "execution_count": 15,
   "metadata": {},
   "outputs": [
    {
     "data": {
      "text/plain": [
       "impression_id               object\n",
       "impression_time             object\n",
       "user_id                      int64\n",
       "app_code                     int64\n",
       "is_4G                        int64\n",
       "is_click                     int64\n",
       "count_item_id                int64\n",
       "item_id                     object\n",
       "os_version_intermediate      int64\n",
       "os_version_latest            int64\n",
       "os_version_old               int64\n",
       "AverageCost                float64\n",
       "MinCost                      int64\n",
       "MaxCost                      int64\n",
       "dtype: object"
      ]
     },
     "execution_count": 15,
     "metadata": {},
     "output_type": "execute_result"
    }
   ],
   "source": [
    "dftrain.dtypes"
   ]
  },
  {
   "cell_type": "markdown",
   "metadata": {},
   "source": [
    "# Training add column"
   ]
  },
  {
   "cell_type": "code",
   "execution_count": 16,
   "metadata": {},
   "outputs": [],
   "source": [
    "arrpotentialuser=dftrain[dftrain['user_id'].duplicated()]['user_id']"
   ]
  },
  {
   "cell_type": "code",
   "execution_count": 17,
   "metadata": {},
   "outputs": [],
   "source": [
    "lstpotential=[]\n",
    "for i,j in dftrain.iterrows():\n",
    "    #print(user)\n",
    "    if(j['user_id'] in arrpotentialuser):\n",
    "        lstpotential.append(1)\n",
    "    else:\n",
    "        lstpotential.append(0)\n",
    "dftrain['potentialUser']=lstpotential"
   ]
  },
  {
   "cell_type": "code",
   "execution_count": 18,
   "metadata": {},
   "outputs": [],
   "source": [
    "time=dftrain['impression_time'].str.split(' ',1,expand=True)\n",
    "dftrain['i_time']=time[1]\n",
    "dftrain['i_date']=time[0]\n",
    "dftrain=dftrain.drop('impression_time',axis=1)\n",
    "# dftrain.head(3)"
   ]
  },
  {
   "cell_type": "code",
   "execution_count": 19,
   "metadata": {},
   "outputs": [],
   "source": [
    "def day_zone(x):\n",
    "    a=x.split(\":\")\n",
    "    if int(int(a[0]))>=0 and int(a[0])<=6:\n",
    "        return(1)\n",
    "    elif int(a[0])>6 and int(a[0])<=12:\n",
    "        return(2)\n",
    "    elif int(a[0])>12 and int(a[0])<=18:\n",
    "        return(3)\n",
    "    else:\n",
    "#         int(a[0])>=0 and int(a[0])<=6:\n",
    "        return(4)"
   ]
  },
  {
   "cell_type": "code",
   "execution_count": 20,
   "metadata": {},
   "outputs": [],
   "source": [
    "Day_zone=dftrain['i_time'].apply(day_zone)"
   ]
  },
  {
   "cell_type": "code",
   "execution_count": 21,
   "metadata": {},
   "outputs": [],
   "source": [
    "dftrain['i_time']=Day_zone"
   ]
  },
  {
   "cell_type": "code",
   "execution_count": 22,
   "metadata": {},
   "outputs": [
    {
     "data": {
      "text/plain": [
       "array([1, 2, 3, 4], dtype=int64)"
      ]
     },
     "execution_count": 22,
     "metadata": {},
     "output_type": "execute_result"
    }
   ],
   "source": [
    "dftrain['i_time'].unique()"
   ]
  },
  {
   "cell_type": "code",
   "execution_count": 23,
   "metadata": {},
   "outputs": [],
   "source": [
    "date=dftrain['i_date'].str.split('-',2,expand=True)"
   ]
  },
  {
   "cell_type": "code",
   "execution_count": 24,
   "metadata": {},
   "outputs": [
    {
     "data": {
      "text/plain": [
       "(22862, 3)"
      ]
     },
     "execution_count": 24,
     "metadata": {},
     "output_type": "execute_result"
    }
   ],
   "source": [
    "date.shape"
   ]
  },
  {
   "cell_type": "code",
   "execution_count": 25,
   "metadata": {},
   "outputs": [],
   "source": [
    "dftrain['i_date']=date[2]\n",
    "dftrain['i_year']=date[0]\n",
    "dftrain['i_month']=date[1]"
   ]
  },
  {
   "cell_type": "code",
   "execution_count": 26,
   "metadata": {},
   "outputs": [],
   "source": [
    "dftrain=dftrain.reindex(sorted(dftrain.columns),axis=1)"
   ]
  },
  {
   "cell_type": "code",
   "execution_count": 27,
   "metadata": {},
   "outputs": [],
   "source": [
    "dftrain=dftrain.rename(columns={'i_time':'impression_Day_zone'})"
   ]
  },
  {
   "cell_type": "code",
   "execution_count": 28,
   "metadata": {},
   "outputs": [
    {
     "data": {
      "text/plain": [
       "Index(['AverageCost', 'MaxCost', 'MinCost', 'app_code', 'count_item_id',\n",
       "       'i_date', 'i_month', 'impression_Day_zone', 'i_year', 'impression_id',\n",
       "       'is_4G', 'is_click', 'item_id', 'os_version_intermediate',\n",
       "       'os_version_latest', 'os_version_old', 'potentialUser', 'user_id'],\n",
       "      dtype='object')"
      ]
     },
     "execution_count": 28,
     "metadata": {},
     "output_type": "execute_result"
    }
   ],
   "source": [
    "dftrain.columns"
   ]
  },
  {
   "cell_type": "code",
   "execution_count": 29,
   "metadata": {},
   "outputs": [
    {
     "data": {
      "text/html": [
       "<div>\n",
       "<style scoped>\n",
       "    .dataframe tbody tr th:only-of-type {\n",
       "        vertical-align: middle;\n",
       "    }\n",
       "\n",
       "    .dataframe tbody tr th {\n",
       "        vertical-align: top;\n",
       "    }\n",
       "\n",
       "    .dataframe thead th {\n",
       "        text-align: right;\n",
       "    }\n",
       "</style>\n",
       "<table border=\"1\" class=\"dataframe\">\n",
       "  <thead>\n",
       "    <tr style=\"text-align: right;\">\n",
       "      <th></th>\n",
       "      <th>AverageCost</th>\n",
       "      <th>MaxCost</th>\n",
       "      <th>MinCost</th>\n",
       "      <th>app_code</th>\n",
       "      <th>count_item_id</th>\n",
       "      <th>i_date</th>\n",
       "      <th>impression_Day_zone</th>\n",
       "      <th>is_4G</th>\n",
       "      <th>is_click</th>\n",
       "      <th>item_id</th>\n",
       "      <th>os_version_intermediate</th>\n",
       "      <th>os_version_latest</th>\n",
       "      <th>os_version_old</th>\n",
       "      <th>potentialUser</th>\n",
       "      <th>user_id</th>\n",
       "    </tr>\n",
       "  </thead>\n",
       "  <tbody>\n",
       "    <tr>\n",
       "      <th>0</th>\n",
       "      <td>4452.833333</td>\n",
       "      <td>14166</td>\n",
       "      <td>1024</td>\n",
       "      <td>467</td>\n",
       "      <td>12</td>\n",
       "      <td>15</td>\n",
       "      <td>1</td>\n",
       "      <td>1</td>\n",
       "      <td>1</td>\n",
       "      <td>43209, 66370, 43209, 43209, 71877, 43209, 4320...</td>\n",
       "      <td>0</td>\n",
       "      <td>1</td>\n",
       "      <td>0</td>\n",
       "      <td>0</td>\n",
       "      <td>63410</td>\n",
       "    </tr>\n",
       "    <tr>\n",
       "      <th>1</th>\n",
       "      <td>13973.377049</td>\n",
       "      <td>209024</td>\n",
       "      <td>377</td>\n",
       "      <td>481</td>\n",
       "      <td>61</td>\n",
       "      <td>15</td>\n",
       "      <td>1</td>\n",
       "      <td>0</td>\n",
       "      <td>1</td>\n",
       "      <td>100847, 117590, 6131, 78766, 129770, 13924, 11...</td>\n",
       "      <td>0</td>\n",
       "      <td>0</td>\n",
       "      <td>1</td>\n",
       "      <td>0</td>\n",
       "      <td>74339</td>\n",
       "    </tr>\n",
       "  </tbody>\n",
       "</table>\n",
       "</div>"
      ],
      "text/plain": [
       "    AverageCost  MaxCost  MinCost  app_code  count_item_id i_date  \\\n",
       "0   4452.833333    14166     1024       467             12     15   \n",
       "1  13973.377049   209024      377       481             61     15   \n",
       "\n",
       "   impression_Day_zone  is_4G  is_click  \\\n",
       "0                    1      1         1   \n",
       "1                    1      0         1   \n",
       "\n",
       "                                             item_id  os_version_intermediate  \\\n",
       "0  43209, 66370, 43209, 43209, 71877, 43209, 4320...                        0   \n",
       "1  100847, 117590, 6131, 78766, 129770, 13924, 11...                        0   \n",
       "\n",
       "   os_version_latest  os_version_old  potentialUser  user_id  \n",
       "0                  1               0              0    63410  \n",
       "1                  0               1              0    74339  "
      ]
     },
     "execution_count": 29,
     "metadata": {},
     "output_type": "execute_result"
    }
   ],
   "source": [
    "dftrain=dftrain.drop(['impression_id','i_month','i_year'],axis=1)\n",
    "dftrain.head(2)"
   ]
  },
  {
   "cell_type": "code",
   "execution_count": 30,
   "metadata": {},
   "outputs": [
    {
     "data": {
      "text/plain": [
       "Index(['AverageCost', 'MaxCost', 'MinCost', 'app_code', 'count_item_id',\n",
       "       'i_date', 'impression_Day_zone', 'is_4G', 'is_click', 'item_id',\n",
       "       'os_version_intermediate', 'os_version_latest', 'os_version_old',\n",
       "       'potentialUser', 'user_id'],\n",
       "      dtype='object')"
      ]
     },
     "execution_count": 30,
     "metadata": {},
     "output_type": "execute_result"
    }
   ],
   "source": [
    "dftrain.columns"
   ]
  },
  {
   "cell_type": "code",
   "execution_count": 31,
   "metadata": {},
   "outputs": [],
   "source": [
    "dftrain=dftrain.drop(['item_id'],axis=1)"
   ]
  },
  {
   "cell_type": "code",
   "execution_count": 32,
   "metadata": {},
   "outputs": [
    {
     "data": {
      "text/plain": [
       "AverageCost                float64\n",
       "MaxCost                      int64\n",
       "MinCost                      int64\n",
       "app_code                     int64\n",
       "count_item_id                int64\n",
       "i_date                      object\n",
       "impression_Day_zone          int64\n",
       "is_4G                        int64\n",
       "is_click                     int64\n",
       "os_version_intermediate      int64\n",
       "os_version_latest            int64\n",
       "os_version_old               int64\n",
       "potentialUser                int64\n",
       "user_id                      int64\n",
       "dtype: object"
      ]
     },
     "execution_count": 32,
     "metadata": {},
     "output_type": "execute_result"
    }
   ],
   "source": [
    "dftrain.dtypes"
   ]
  },
  {
   "cell_type": "code",
   "execution_count": 33,
   "metadata": {},
   "outputs": [],
   "source": [
    "convert_dict = {'i_date':int}\n",
    "dftrain=dftrain.astype(convert_dict)"
   ]
  },
  {
   "cell_type": "code",
   "execution_count": 34,
   "metadata": {},
   "outputs": [
    {
     "data": {
      "text/plain": [
       "Index(['AverageCost', 'MaxCost', 'MinCost', 'app_code', 'count_item_id',\n",
       "       'i_date', 'impression_Day_zone', 'is_4G', 'is_click',\n",
       "       'os_version_intermediate', 'os_version_latest', 'os_version_old',\n",
       "       'potentialUser', 'user_id'],\n",
       "      dtype='object')"
      ]
     },
     "execution_count": 34,
     "metadata": {},
     "output_type": "execute_result"
    }
   ],
   "source": [
    "dftrain.columns"
   ]
  },
  {
   "cell_type": "code",
   "execution_count": 35,
   "metadata": {},
   "outputs": [
    {
     "data": {
      "text/html": [
       "<div>\n",
       "<style scoped>\n",
       "    .dataframe tbody tr th:only-of-type {\n",
       "        vertical-align: middle;\n",
       "    }\n",
       "\n",
       "    .dataframe tbody tr th {\n",
       "        vertical-align: top;\n",
       "    }\n",
       "\n",
       "    .dataframe thead th {\n",
       "        text-align: right;\n",
       "    }\n",
       "</style>\n",
       "<table border=\"1\" class=\"dataframe\">\n",
       "  <thead>\n",
       "    <tr style=\"text-align: right;\">\n",
       "      <th></th>\n",
       "      <th>AverageCost</th>\n",
       "      <th>MaxCost</th>\n",
       "      <th>MinCost</th>\n",
       "      <th>app_code</th>\n",
       "      <th>count_item_id</th>\n",
       "      <th>i_date</th>\n",
       "      <th>impression_Day_zone</th>\n",
       "      <th>is_4G</th>\n",
       "      <th>is_click</th>\n",
       "      <th>os_version_intermediate</th>\n",
       "      <th>os_version_latest</th>\n",
       "      <th>os_version_old</th>\n",
       "      <th>potentialUser</th>\n",
       "      <th>user_id</th>\n",
       "    </tr>\n",
       "  </thead>\n",
       "  <tbody>\n",
       "    <tr>\n",
       "      <th>0</th>\n",
       "      <td>4452.833333</td>\n",
       "      <td>14166</td>\n",
       "      <td>1024</td>\n",
       "      <td>467</td>\n",
       "      <td>12</td>\n",
       "      <td>15</td>\n",
       "      <td>1</td>\n",
       "      <td>1</td>\n",
       "      <td>1</td>\n",
       "      <td>0</td>\n",
       "      <td>1</td>\n",
       "      <td>0</td>\n",
       "      <td>0</td>\n",
       "      <td>63410</td>\n",
       "    </tr>\n",
       "    <tr>\n",
       "      <th>1</th>\n",
       "      <td>13973.377049</td>\n",
       "      <td>209024</td>\n",
       "      <td>377</td>\n",
       "      <td>481</td>\n",
       "      <td>61</td>\n",
       "      <td>15</td>\n",
       "      <td>1</td>\n",
       "      <td>0</td>\n",
       "      <td>1</td>\n",
       "      <td>0</td>\n",
       "      <td>0</td>\n",
       "      <td>1</td>\n",
       "      <td>0</td>\n",
       "      <td>74339</td>\n",
       "    </tr>\n",
       "    <tr>\n",
       "      <th>2</th>\n",
       "      <td>6876.427536</td>\n",
       "      <td>182144</td>\n",
       "      <td>166</td>\n",
       "      <td>249</td>\n",
       "      <td>138</td>\n",
       "      <td>15</td>\n",
       "      <td>1</td>\n",
       "      <td>0</td>\n",
       "      <td>1</td>\n",
       "      <td>0</td>\n",
       "      <td>1</td>\n",
       "      <td>0</td>\n",
       "      <td>0</td>\n",
       "      <td>81926</td>\n",
       "    </tr>\n",
       "  </tbody>\n",
       "</table>\n",
       "</div>"
      ],
      "text/plain": [
       "    AverageCost  MaxCost  MinCost  app_code  count_item_id  i_date  \\\n",
       "0   4452.833333    14166     1024       467             12      15   \n",
       "1  13973.377049   209024      377       481             61      15   \n",
       "2   6876.427536   182144      166       249            138      15   \n",
       "\n",
       "   impression_Day_zone  is_4G  is_click  os_version_intermediate  \\\n",
       "0                    1      1         1                        0   \n",
       "1                    1      0         1                        0   \n",
       "2                    1      0         1                        0   \n",
       "\n",
       "   os_version_latest  os_version_old  potentialUser  user_id  \n",
       "0                  1               0              0    63410  \n",
       "1                  0               1              0    74339  \n",
       "2                  1               0              0    81926  "
      ]
     },
     "execution_count": 35,
     "metadata": {},
     "output_type": "execute_result"
    }
   ],
   "source": [
    "dftrain.head(3)"
   ]
  },
  {
   "cell_type": "markdown",
   "metadata": {},
   "source": [
    "# ---------------------------------------------------------------------------------------------------###### "
   ]
  },
  {
   "cell_type": "markdown",
   "metadata": {},
   "source": [
    "# Testing add column"
   ]
  },
  {
   "cell_type": "code",
   "execution_count": 36,
   "metadata": {},
   "outputs": [
    {
     "name": "stdout",
     "output_type": "stream",
     "text": [
      "<class 'pandas.core.frame.DataFrame'>\n",
      "RangeIndex: 90675 entries, 0 to 90674\n",
      "Data columns (total 13 columns):\n",
      "impression_id              90675 non-null object\n",
      "impression_time            90675 non-null object\n",
      "user_id                    90675 non-null int64\n",
      "app_code                   90675 non-null int64\n",
      "is_4G                      90675 non-null int64\n",
      "count_item_id              90675 non-null int64\n",
      "item_id                    90675 non-null object\n",
      "AverageCost                90675 non-null float64\n",
      "MinCost                    90675 non-null int64\n",
      "MaxCost                    90675 non-null int64\n",
      "os_version_intermediate    90675 non-null uint8\n",
      "os_version_latest          90675 non-null uint8\n",
      "os_version_old             90675 non-null uint8\n",
      "dtypes: float64(1), int64(6), object(3), uint8(3)\n",
      "memory usage: 7.2+ MB\n"
     ]
    }
   ],
   "source": [
    "dftest.info()"
   ]
  },
  {
   "cell_type": "code",
   "execution_count": 37,
   "metadata": {},
   "outputs": [],
   "source": [
    "arrpotentialuser=dftest[dftest['user_id'].duplicated()]['user_id']"
   ]
  },
  {
   "cell_type": "code",
   "execution_count": 38,
   "metadata": {},
   "outputs": [],
   "source": [
    "lstpotential=[]\n",
    "for i,j in dftest.iterrows():\n",
    "    #print(user)\n",
    "    if(j['user_id'] in arrpotentialuser):\n",
    "        lstpotential.append(1)\n",
    "    else:\n",
    "        lstpotential.append(0)\n",
    "dftest['potentialUser']=lstpotential"
   ]
  },
  {
   "cell_type": "code",
   "execution_count": 39,
   "metadata": {},
   "outputs": [],
   "source": [
    "time=dftest['impression_time'].str.split(' ',1,expand=True)\n",
    "dftest['i_time']=time[1]\n",
    "dftest['i_date']=time[0]\n",
    "dftest=dftest.drop('impression_time',axis=1)\n",
    "# dftest.head(3)"
   ]
  },
  {
   "cell_type": "code",
   "execution_count": 40,
   "metadata": {},
   "outputs": [],
   "source": [
    "def day_zone(x):\n",
    "    a=x.split(\":\")\n",
    "    if int(int(a[0]))>=0 and int(a[0])<=6:\n",
    "        return(1)\n",
    "    elif int(a[0])>6 and int(a[0])<=12:\n",
    "        return(2)\n",
    "    elif int(a[0])>12 and int(a[0])<=18:\n",
    "        return(3)\n",
    "    else:\n",
    "#         int(a[0])>=0 and int(a[0])<=6:\n",
    "        return(4)"
   ]
  },
  {
   "cell_type": "code",
   "execution_count": 41,
   "metadata": {},
   "outputs": [],
   "source": [
    "Day_zone=dftest['i_time'].apply(day_zone)"
   ]
  },
  {
   "cell_type": "code",
   "execution_count": 42,
   "metadata": {},
   "outputs": [],
   "source": [
    "dftest['i_time']=Day_zone"
   ]
  },
  {
   "cell_type": "code",
   "execution_count": 43,
   "metadata": {},
   "outputs": [
    {
     "data": {
      "text/plain": [
       "array([2, 4, 3, 1], dtype=int64)"
      ]
     },
     "execution_count": 43,
     "metadata": {},
     "output_type": "execute_result"
    }
   ],
   "source": [
    "dftest['i_time'].unique()"
   ]
  },
  {
   "cell_type": "code",
   "execution_count": 44,
   "metadata": {},
   "outputs": [],
   "source": [
    "date=dftest['i_date'].str.split('-',2,expand=True)"
   ]
  },
  {
   "cell_type": "code",
   "execution_count": 45,
   "metadata": {},
   "outputs": [
    {
     "data": {
      "text/plain": [
       "(90675, 3)"
      ]
     },
     "execution_count": 45,
     "metadata": {},
     "output_type": "execute_result"
    }
   ],
   "source": [
    "date.shape"
   ]
  },
  {
   "cell_type": "code",
   "execution_count": 46,
   "metadata": {},
   "outputs": [],
   "source": [
    "dftest['i_date']=date[2]\n",
    "dftest['i_year']=date[0]\n",
    "dftest['i_month']=date[1]"
   ]
  },
  {
   "cell_type": "code",
   "execution_count": 47,
   "metadata": {},
   "outputs": [],
   "source": [
    "dftest=dftest.reindex(sorted(dftest.columns),axis=1)"
   ]
  },
  {
   "cell_type": "code",
   "execution_count": 48,
   "metadata": {},
   "outputs": [],
   "source": [
    "dftest=dftest.rename(columns={'i_time':'impression_Day_zone'})"
   ]
  },
  {
   "cell_type": "code",
   "execution_count": 49,
   "metadata": {},
   "outputs": [
    {
     "data": {
      "text/plain": [
       "Index(['AverageCost', 'MaxCost', 'MinCost', 'app_code', 'count_item_id',\n",
       "       'i_date', 'i_month', 'impression_Day_zone', 'i_year', 'impression_id',\n",
       "       'is_4G', 'item_id', 'os_version_intermediate', 'os_version_latest',\n",
       "       'os_version_old', 'potentialUser', 'user_id'],\n",
       "      dtype='object')"
      ]
     },
     "execution_count": 49,
     "metadata": {},
     "output_type": "execute_result"
    }
   ],
   "source": [
    "dftest.columns"
   ]
  },
  {
   "cell_type": "code",
   "execution_count": 50,
   "metadata": {},
   "outputs": [
    {
     "data": {
      "text/plain": [
       "(90675, 17)"
      ]
     },
     "execution_count": 50,
     "metadata": {},
     "output_type": "execute_result"
    }
   ],
   "source": [
    "dftest.shape"
   ]
  },
  {
   "cell_type": "code",
   "execution_count": 51,
   "metadata": {},
   "outputs": [
    {
     "data": {
      "text/html": [
       "<div>\n",
       "<style scoped>\n",
       "    .dataframe tbody tr th:only-of-type {\n",
       "        vertical-align: middle;\n",
       "    }\n",
       "\n",
       "    .dataframe tbody tr th {\n",
       "        vertical-align: top;\n",
       "    }\n",
       "\n",
       "    .dataframe thead th {\n",
       "        text-align: right;\n",
       "    }\n",
       "</style>\n",
       "<table border=\"1\" class=\"dataframe\">\n",
       "  <thead>\n",
       "    <tr style=\"text-align: right;\">\n",
       "      <th></th>\n",
       "      <th>AverageCost</th>\n",
       "      <th>MaxCost</th>\n",
       "      <th>MinCost</th>\n",
       "      <th>app_code</th>\n",
       "      <th>count_item_id</th>\n",
       "      <th>i_date</th>\n",
       "      <th>impression_Day_zone</th>\n",
       "      <th>is_4G</th>\n",
       "      <th>item_id</th>\n",
       "      <th>os_version_intermediate</th>\n",
       "      <th>os_version_latest</th>\n",
       "      <th>os_version_old</th>\n",
       "      <th>potentialUser</th>\n",
       "      <th>user_id</th>\n",
       "    </tr>\n",
       "  </thead>\n",
       "  <tbody>\n",
       "    <tr>\n",
       "      <th>0</th>\n",
       "      <td>23424.000</td>\n",
       "      <td>23424</td>\n",
       "      <td>23424</td>\n",
       "      <td>127</td>\n",
       "      <td>1</td>\n",
       "      <td>13</td>\n",
       "      <td>2</td>\n",
       "      <td>1</td>\n",
       "      <td>128995</td>\n",
       "      <td>0</td>\n",
       "      <td>1</td>\n",
       "      <td>0</td>\n",
       "      <td>0</td>\n",
       "      <td>44754</td>\n",
       "    </tr>\n",
       "    <tr>\n",
       "      <th>1</th>\n",
       "      <td>10752.375</td>\n",
       "      <td>54681</td>\n",
       "      <td>207</td>\n",
       "      <td>44</td>\n",
       "      <td>72</td>\n",
       "      <td>13</td>\n",
       "      <td>2</td>\n",
       "      <td>0</td>\n",
       "      <td>55912, 80771, 80771, 8365, 8365, 8365, 75146, ...</td>\n",
       "      <td>0</td>\n",
       "      <td>1</td>\n",
       "      <td>0</td>\n",
       "      <td>0</td>\n",
       "      <td>29656</td>\n",
       "    </tr>\n",
       "  </tbody>\n",
       "</table>\n",
       "</div>"
      ],
      "text/plain": [
       "   AverageCost  MaxCost  MinCost  app_code  count_item_id i_date  \\\n",
       "0    23424.000    23424    23424       127              1     13   \n",
       "1    10752.375    54681      207        44             72     13   \n",
       "\n",
       "   impression_Day_zone  is_4G  \\\n",
       "0                    2      1   \n",
       "1                    2      0   \n",
       "\n",
       "                                             item_id  os_version_intermediate  \\\n",
       "0                                             128995                        0   \n",
       "1  55912, 80771, 80771, 8365, 8365, 8365, 75146, ...                        0   \n",
       "\n",
       "   os_version_latest  os_version_old  potentialUser  user_id  \n",
       "0                  1               0              0    44754  \n",
       "1                  1               0              0    29656  "
      ]
     },
     "execution_count": 51,
     "metadata": {},
     "output_type": "execute_result"
    }
   ],
   "source": [
    "dftest=dftest.drop(['impression_id','i_month','i_year'],axis=1)\n",
    "dftest.head(2)"
   ]
  },
  {
   "cell_type": "code",
   "execution_count": 52,
   "metadata": {},
   "outputs": [
    {
     "data": {
      "text/plain": [
       "Index(['AverageCost', 'MaxCost', 'MinCost', 'app_code', 'count_item_id',\n",
       "       'i_date', 'impression_Day_zone', 'is_4G', 'item_id',\n",
       "       'os_version_intermediate', 'os_version_latest', 'os_version_old',\n",
       "       'potentialUser', 'user_id'],\n",
       "      dtype='object')"
      ]
     },
     "execution_count": 52,
     "metadata": {},
     "output_type": "execute_result"
    }
   ],
   "source": [
    "dftest.columns"
   ]
  },
  {
   "cell_type": "code",
   "execution_count": 53,
   "metadata": {},
   "outputs": [],
   "source": [
    "dftest=dftest.drop(['item_id'],axis=1)"
   ]
  },
  {
   "cell_type": "code",
   "execution_count": 54,
   "metadata": {},
   "outputs": [
    {
     "data": {
      "text/html": [
       "<div>\n",
       "<style scoped>\n",
       "    .dataframe tbody tr th:only-of-type {\n",
       "        vertical-align: middle;\n",
       "    }\n",
       "\n",
       "    .dataframe tbody tr th {\n",
       "        vertical-align: top;\n",
       "    }\n",
       "\n",
       "    .dataframe thead th {\n",
       "        text-align: right;\n",
       "    }\n",
       "</style>\n",
       "<table border=\"1\" class=\"dataframe\">\n",
       "  <thead>\n",
       "    <tr style=\"text-align: right;\">\n",
       "      <th></th>\n",
       "      <th>AverageCost</th>\n",
       "      <th>MaxCost</th>\n",
       "      <th>MinCost</th>\n",
       "      <th>app_code</th>\n",
       "      <th>count_item_id</th>\n",
       "      <th>i_date</th>\n",
       "      <th>impression_Day_zone</th>\n",
       "      <th>is_4G</th>\n",
       "      <th>os_version_intermediate</th>\n",
       "      <th>os_version_latest</th>\n",
       "      <th>os_version_old</th>\n",
       "      <th>potentialUser</th>\n",
       "      <th>user_id</th>\n",
       "    </tr>\n",
       "  </thead>\n",
       "  <tbody>\n",
       "    <tr>\n",
       "      <th>0</th>\n",
       "      <td>23424.000000</td>\n",
       "      <td>23424</td>\n",
       "      <td>23424</td>\n",
       "      <td>127</td>\n",
       "      <td>1</td>\n",
       "      <td>13</td>\n",
       "      <td>2</td>\n",
       "      <td>1</td>\n",
       "      <td>0</td>\n",
       "      <td>1</td>\n",
       "      <td>0</td>\n",
       "      <td>0</td>\n",
       "      <td>44754</td>\n",
       "    </tr>\n",
       "    <tr>\n",
       "      <th>1</th>\n",
       "      <td>10752.375000</td>\n",
       "      <td>54681</td>\n",
       "      <td>207</td>\n",
       "      <td>44</td>\n",
       "      <td>72</td>\n",
       "      <td>13</td>\n",
       "      <td>2</td>\n",
       "      <td>0</td>\n",
       "      <td>0</td>\n",
       "      <td>1</td>\n",
       "      <td>0</td>\n",
       "      <td>0</td>\n",
       "      <td>29656</td>\n",
       "    </tr>\n",
       "    <tr>\n",
       "      <th>2</th>\n",
       "      <td>4974.555556</td>\n",
       "      <td>20309</td>\n",
       "      <td>1238</td>\n",
       "      <td>296</td>\n",
       "      <td>9</td>\n",
       "      <td>13</td>\n",
       "      <td>2</td>\n",
       "      <td>1</td>\n",
       "      <td>0</td>\n",
       "      <td>1</td>\n",
       "      <td>0</td>\n",
       "      <td>1</td>\n",
       "      <td>25234</td>\n",
       "    </tr>\n",
       "  </tbody>\n",
       "</table>\n",
       "</div>"
      ],
      "text/plain": [
       "    AverageCost  MaxCost  MinCost  app_code  count_item_id i_date  \\\n",
       "0  23424.000000    23424    23424       127              1     13   \n",
       "1  10752.375000    54681      207        44             72     13   \n",
       "2   4974.555556    20309     1238       296              9     13   \n",
       "\n",
       "   impression_Day_zone  is_4G  os_version_intermediate  os_version_latest  \\\n",
       "0                    2      1                        0                  1   \n",
       "1                    2      0                        0                  1   \n",
       "2                    2      1                        0                  1   \n",
       "\n",
       "   os_version_old  potentialUser  user_id  \n",
       "0               0              0    44754  \n",
       "1               0              0    29656  \n",
       "2               0              1    25234  "
      ]
     },
     "execution_count": 54,
     "metadata": {},
     "output_type": "execute_result"
    }
   ],
   "source": [
    "dftest.head(3)"
   ]
  },
  {
   "cell_type": "code",
   "execution_count": null,
   "metadata": {},
   "outputs": [],
   "source": []
  },
  {
   "cell_type": "code",
   "execution_count": null,
   "metadata": {},
   "outputs": [],
   "source": []
  },
  {
   "cell_type": "markdown",
   "metadata": {},
   "source": [
    "# Model Fitting (Training data)"
   ]
  },
  {
   "cell_type": "code",
   "execution_count": 55,
   "metadata": {},
   "outputs": [],
   "source": [
    "from sklearn.model_selection import train_test_split\n",
    "from sklearn.linear_model import LogisticRegression\n",
    "from sklearn.metrics import accuracy_score\n",
    "from sklearn.metrics import roc_curve, auc, classification_report, confusion_matrix\n",
    "from sklearn import linear_model, neighbors\n",
    "from sklearn.ensemble import RandomForestClassifier\n",
    "from sklearn.tree import DecisionTreeClassifier\n",
    "from sklearn.model_selection import cross_val_score\n",
    "from sklearn.ensemble import BaggingClassifier\n",
    "from sklearn.model_selection import GridSearchCV\n",
    "from sklearn.metrics import roc_auc_score\n",
    "from sklearn.metrics import precision_score\n",
    "import time"
   ]
  },
  {
   "cell_type": "code",
   "execution_count": 56,
   "metadata": {},
   "outputs": [
    {
     "data": {
      "text/plain": [
       "AverageCost                float64\n",
       "MaxCost                      int64\n",
       "MinCost                      int64\n",
       "app_code                     int64\n",
       "count_item_id                int64\n",
       "i_date                       int32\n",
       "impression_Day_zone          int64\n",
       "is_4G                        int64\n",
       "is_click                     int64\n",
       "os_version_intermediate      int64\n",
       "os_version_latest            int64\n",
       "os_version_old               int64\n",
       "potentialUser                int64\n",
       "user_id                      int64\n",
       "dtype: object"
      ]
     },
     "execution_count": 56,
     "metadata": {},
     "output_type": "execute_result"
    }
   ],
   "source": [
    "dftrain.dtypes"
   ]
  },
  {
   "cell_type": "code",
   "execution_count": 57,
   "metadata": {},
   "outputs": [],
   "source": [
    "X=dftrain.drop(['is_click'],axis=1)\n",
    "Y=dftrain['is_click']"
   ]
  },
  {
   "cell_type": "markdown",
   "metadata": {},
   "source": [
    "## Logistic Parameter"
   ]
  },
  {
   "cell_type": "code",
   "execution_count": 58,
   "metadata": {},
   "outputs": [
    {
     "name": "stdout",
     "output_type": "stream",
     "text": [
      "64.48332422088573\n"
     ]
    }
   ],
   "source": [
    "X_train, X_test, Y_train, Y_test = train_test_split(X, Y, test_size=0.40,random_state=7)\n",
    "modelLR = LogisticRegression()\n",
    "modelLR=modelLR.fit(X_train, Y_train)\n",
    "result = modelLR.score(X_test, Y_test)\n",
    "print(result*100.0)"
   ]
  },
  {
   "cell_type": "code",
   "execution_count": 59,
   "metadata": {},
   "outputs": [
    {
     "name": "stdout",
     "output_type": "stream",
     "text": [
      "0.25816405427745764 0.1236978815524237\n"
     ]
    }
   ],
   "source": [
    "model = LogisticRegression()\n",
    "scoring = 'roc_auc'\n",
    "results = cross_val_score(model, X, Y, scoring=scoring)\n",
    "print(results.mean(), results.std())"
   ]
  },
  {
   "cell_type": "code",
   "execution_count": 60,
   "metadata": {},
   "outputs": [],
   "source": [
    "from sklearn.metrics import precision_score, \\\n",
    "    recall_score, confusion_matrix, classification_report, \\\n",
    "    accuracy_score, f1_score\n",
    "clf = LogisticRegression(solver = 'lbfgs')\n",
    "# fit the model\n",
    "clf.fit(X_train, Y_train.ravel())\n",
    "\n",
    "# prediction for training dataset\n",
    "train_pred = clf.predict(X_train)\n",
    "\n",
    "# prediction for testing dataset\n",
    "test_pred = clf.predict(X_test)## Grid Search"
   ]
  },
  {
   "cell_type": "code",
   "execution_count": 61,
   "metadata": {},
   "outputs": [
    {
     "name": "stdout",
     "output_type": "stream",
     "text": [
      "Confusion Matrix - Training Dataset\n",
      "Predicted      0     1    All\n",
      "True                         \n",
      "0           5573  1571   7144\n",
      "1           4774  1799   6573\n",
      "All        10347  3370  13717\n"
     ]
    }
   ],
   "source": [
    "print('Confusion Matrix - Training Dataset')\n",
    "print(pd.crosstab(Y_train.ravel(), train_pred, rownames = ['True'], colnames = ['Predicted'], margins = True))"
   ]
  },
  {
   "cell_type": "code",
   "execution_count": 62,
   "metadata": {},
   "outputs": [
    {
     "name": "stdout",
     "output_type": "stream",
     "text": [
      "Accuracy: 0.5401858939311099\n",
      "F1 score: 0.3612334801762115\n",
      "Recall: 0.27722079738866867\n",
      "Precision: 0.518308631211857\n",
      "\n",
      " clasification report:\n",
      "               precision    recall  f1-score   support\n",
      "\n",
      "           0       0.55      0.77      0.64      4856\n",
      "           1       0.52      0.28      0.36      4289\n",
      "\n",
      "    accuracy                           0.54      9145\n",
      "   macro avg       0.53      0.52      0.50      9145\n",
      "weighted avg       0.53      0.54      0.51      9145\n",
      "\n",
      "\n",
      " confussion matrix:\n",
      " [[3751 1105]\n",
      " [3100 1189]]\n"
     ]
    }
   ],
   "source": [
    "print ('Accuracy:', accuracy_score(Y_test, test_pred))\n",
    "print ('F1 score:', f1_score(Y_test, test_pred))\n",
    "print ('Recall:', recall_score(Y_test, test_pred))\n",
    "print ('Precision:', precision_score(Y_test, test_pred))\n",
    "print ('\\n clasification report:\\n', classification_report(Y_test,test_pred))\n",
    "print ('\\n confussion matrix:\\n',confusion_matrix(Y_test, test_pred))"
   ]
  },
  {
   "cell_type": "markdown",
   "metadata": {},
   "source": [
    "## Random Forest"
   ]
  },
  {
   "cell_type": "code",
   "execution_count": 63,
   "metadata": {},
   "outputs": [
    {
     "name": "stdout",
     "output_type": "stream",
     "text": [
      "0.7631051326560635 0.1956147047583564\n"
     ]
    }
   ],
   "source": [
    "# model = RandomForestClassifier(criterion='entropy', max_depth = 5, max_leaf_nodes = 6, min_samples_leaf = 2, min_samples_split = 2)\n",
    "model = RandomForestClassifier(criterion='gini', max_depth = 5, max_leaf_nodes = 6, min_samples_leaf = 2, min_samples_split = 2)\n",
    "scoring = 'roc_auc'\n",
    "results = cross_val_score(model, X, Y, scoring=scoring)\n",
    "print(results.mean(), results.std())"
   ]
  },
  {
   "cell_type": "code",
   "execution_count": 64,
   "metadata": {},
   "outputs": [
    {
     "name": "stdout",
     "output_type": "stream",
     "text": [
      "0.7627290496835779 0.10476647491318859\n"
     ]
    }
   ],
   "source": [
    "model = DecisionTreeClassifier()\n",
    "scoring = 'roc_auc'\n",
    "results = cross_val_score(model, X, Y, scoring=scoring)\n",
    "print(results.mean(), results.std())"
   ]
  },
  {
   "cell_type": "code",
   "execution_count": 65,
   "metadata": {},
   "outputs": [
    {
     "data": {
      "text/plain": [
       "DecisionTreeClassifier(class_weight=None, criterion='gini', max_depth=None,\n",
       "                       max_features=None, max_leaf_nodes=None,\n",
       "                       min_impurity_decrease=0.0, min_impurity_split=None,\n",
       "                       min_samples_leaf=1, min_samples_split=2,\n",
       "                       min_weight_fraction_leaf=0.0, presort=False,\n",
       "                       random_state=None, splitter='best')"
      ]
     },
     "execution_count": 65,
     "metadata": {},
     "output_type": "execute_result"
    }
   ],
   "source": [
    "model"
   ]
  },
  {
   "cell_type": "markdown",
   "metadata": {},
   "source": [
    "## Grid Search"
   ]
  },
  {
   "cell_type": "code",
   "execution_count": 66,
   "metadata": {},
   "outputs": [
    {
     "name": "stdout",
     "output_type": "stream",
     "text": [
      "{'criterion': 'entropy', 'max_depth': 5, 'max_leaf_nodes': 6, 'min_samples_leaf': 2, 'min_samples_split': 2}\n"
     ]
    }
   ],
   "source": [
    "parameters = {'max_depth':[5,10,20,50,100], 'min_samples_leaf':[2,3,4], 'max_leaf_nodes':[6,7,8], 'criterion':['gini','entropy'],\n",
    "             'min_samples_split':[2,3,4]}\n",
    "DecisionTree = DecisionTreeClassifier()\n",
    "grid_search = GridSearchCV(DecisionTree,parameters)\n",
    "grid_search.fit(X_train, Y_train)\n",
    "\n",
    "print(grid_search.best_params_)"
   ]
  },
  {
   "cell_type": "code",
   "execution_count": 67,
   "metadata": {},
   "outputs": [
    {
     "name": "stdout",
     "output_type": "stream",
     "text": [
      "0.7536394663502445 0.18480554629959559\n"
     ]
    }
   ],
   "source": [
    "from sklearn.ensemble import GradientBoostingClassifier\n",
    "model = GradientBoostingClassifier()\n",
    "scoring = 'roc_auc'\n",
    "results = cross_val_score(model, X, Y, scoring=scoring)\n",
    "print(results.mean(), results.std())"
   ]
  },
  {
   "cell_type": "code",
   "execution_count": 68,
   "metadata": {},
   "outputs": [
    {
     "name": "stdout",
     "output_type": "stream",
     "text": [
      "The ROC AUC on testing set is: 0.941245\n"
     ]
    }
   ],
   "source": [
    "from sklearn.metrics import roc_auc_score\n",
    "Decision_Tree_best = grid_search.best_estimator_\n",
    "pos_prob = Decision_Tree_best.predict_proba(X_test)[:,1]\n",
    "print('The ROC AUC on testing set is: {0:3f}'.format(roc_auc_score(Y_test, pos_prob)))"
   ]
  },
  {
   "cell_type": "code",
   "execution_count": 69,
   "metadata": {},
   "outputs": [],
   "source": [
    "Y_predict = Decision_Tree_best.predict(X_test)\n",
    "accuracy_score = (Y_test,Y_predict)"
   ]
  },
  {
   "cell_type": "code",
   "execution_count": 70,
   "metadata": {},
   "outputs": [
    {
     "data": {
      "text/plain": [
       "DecisionTreeClassifier(class_weight=None, criterion='gini', max_depth=None,\n",
       "                       max_features=None, max_leaf_nodes=None,\n",
       "                       min_impurity_decrease=0.0, min_impurity_split=None,\n",
       "                       min_samples_leaf=1, min_samples_split=2,\n",
       "                       min_weight_fraction_leaf=0.0, presort=False,\n",
       "                       random_state=None, splitter='best')"
      ]
     },
     "execution_count": 70,
     "metadata": {},
     "output_type": "execute_result"
    }
   ],
   "source": [
    "DecisionTree"
   ]
  },
  {
   "cell_type": "markdown",
   "metadata": {},
   "source": [
    "### Xgboost"
   ]
  },
  {
   "cell_type": "code",
   "execution_count": 71,
   "metadata": {},
   "outputs": [
    {
     "data": {
      "text/plain": [
       "RandomForestRegressor(bootstrap=True, criterion='mse', max_depth=None,\n",
       "                      max_features='auto', max_leaf_nodes=None,\n",
       "                      min_impurity_decrease=0.0, min_impurity_split=None,\n",
       "                      min_samples_leaf=1, min_samples_split=2,\n",
       "                      min_weight_fraction_leaf=0.0, n_estimators=1000,\n",
       "                      n_jobs=None, oob_score=False, random_state=100, verbose=0,\n",
       "                      warm_start=False)"
      ]
     },
     "execution_count": 71,
     "metadata": {},
     "output_type": "execute_result"
    }
   ],
   "source": [
    "# Instantiate random forest and train on new features\n",
    "from sklearn.ensemble import RandomForestRegressor\n",
    "rf_exp = RandomForestRegressor(n_estimators= 1000, random_state=100)\n",
    "rf_exp.fit(X_train, Y_train)"
   ]
  },
  {
   "cell_type": "code",
   "execution_count": null,
   "metadata": {},
   "outputs": [],
   "source": []
  },
  {
   "cell_type": "markdown",
   "metadata": {},
   "source": [
    "## Add Testing column"
   ]
  },
  {
   "cell_type": "code",
   "execution_count": 72,
   "metadata": {},
   "outputs": [
    {
     "data": {
      "text/plain": [
       "(22862, 14)"
      ]
     },
     "execution_count": 72,
     "metadata": {},
     "output_type": "execute_result"
    }
   ],
   "source": [
    "dftrain.shape"
   ]
  },
  {
   "cell_type": "code",
   "execution_count": 73,
   "metadata": {},
   "outputs": [
    {
     "data": {
      "text/plain": [
       "(90675, 13)"
      ]
     },
     "execution_count": 73,
     "metadata": {},
     "output_type": "execute_result"
    }
   ],
   "source": [
    "dftest.shape"
   ]
  },
  {
   "cell_type": "code",
   "execution_count": 74,
   "metadata": {},
   "outputs": [],
   "source": [
    "convert_dict = {'i_date':int}\n",
    "dftest=dftest.astype(convert_dict)"
   ]
  },
  {
   "cell_type": "code",
   "execution_count": 75,
   "metadata": {},
   "outputs": [
    {
     "data": {
      "text/plain": [
       "AverageCost                float64\n",
       "MaxCost                      int64\n",
       "MinCost                      int64\n",
       "app_code                     int64\n",
       "count_item_id                int64\n",
       "i_date                       int32\n",
       "impression_Day_zone          int64\n",
       "is_4G                        int64\n",
       "os_version_intermediate      uint8\n",
       "os_version_latest            uint8\n",
       "os_version_old               uint8\n",
       "potentialUser                int64\n",
       "user_id                      int64\n",
       "dtype: object"
      ]
     },
     "execution_count": 75,
     "metadata": {},
     "output_type": "execute_result"
    }
   ],
   "source": [
    "dftest.dtypes"
   ]
  },
  {
   "cell_type": "code",
   "execution_count": 76,
   "metadata": {},
   "outputs": [],
   "source": [
    "Z=dftest\n",
    "#Y=dftrain['is_click']"
   ]
  },
  {
   "cell_type": "code",
   "execution_count": 77,
   "metadata": {},
   "outputs": [],
   "source": [
    "y_predict=rf_exp.predict(Z)"
   ]
  },
  {
   "cell_type": "code",
   "execution_count": 78,
   "metadata": {},
   "outputs": [
    {
     "data": {
      "text/plain": [
       "array([1., 1., 1., ..., 1., 1., 1.])"
      ]
     },
     "execution_count": 78,
     "metadata": {},
     "output_type": "execute_result"
    }
   ],
   "source": [
    "y_predict"
   ]
  },
  {
   "cell_type": "code",
   "execution_count": 79,
   "metadata": {},
   "outputs": [
    {
     "data": {
      "text/plain": [
       "90675"
      ]
     },
     "execution_count": 79,
     "metadata": {},
     "output_type": "execute_result"
    }
   ],
   "source": [
    "len(y_predict)"
   ]
  },
  {
   "cell_type": "code",
   "execution_count": 80,
   "metadata": {},
   "outputs": [],
   "source": [
    "dftest=pd.read_csv('Compiled file test.csv')"
   ]
  },
  {
   "cell_type": "code",
   "execution_count": 81,
   "metadata": {},
   "outputs": [],
   "source": [
    "dftest['is_click']=y_predict"
   ]
  },
  {
   "cell_type": "code",
   "execution_count": 82,
   "metadata": {},
   "outputs": [
    {
     "data": {
      "text/plain": [
       "Index(['Unnamed: 0', 'Unnamed: 0.1', 'impression_id', 'impression_time',\n",
       "       'user_id', 'app_code', 'os_version', 'is_4G', 'count', 'item_id',\n",
       "       'AverageCost', 'MinCost', 'MaxCost', 'is_click'],\n",
       "      dtype='object')"
      ]
     },
     "execution_count": 82,
     "metadata": {},
     "output_type": "execute_result"
    }
   ],
   "source": [
    "dftest.columns"
   ]
  },
  {
   "cell_type": "code",
   "execution_count": 83,
   "metadata": {},
   "outputs": [],
   "source": [
    "df=dftest.loc[:,['impression_id','is_click']]"
   ]
  },
  {
   "cell_type": "code",
   "execution_count": 84,
   "metadata": {},
   "outputs": [
    {
     "data": {
      "text/plain": [
       "Index(['impression_id', 'is_click'], dtype='object')"
      ]
     },
     "execution_count": 84,
     "metadata": {},
     "output_type": "execute_result"
    }
   ],
   "source": [
    "df.columns"
   ]
  },
  {
   "cell_type": "code",
   "execution_count": 85,
   "metadata": {},
   "outputs": [],
   "source": [
    "df.to_csv('submission_rajeev_xgboost.csv')"
   ]
  },
  {
   "cell_type": "code",
   "execution_count": null,
   "metadata": {},
   "outputs": [],
   "source": []
  }
 ],
 "metadata": {
  "kernelspec": {
   "display_name": "Python 3",
   "language": "python",
   "name": "python3"
  },
  "language_info": {
   "codemirror_mode": {
    "name": "ipython",
    "version": 3
   },
   "file_extension": ".py",
   "mimetype": "text/x-python",
   "name": "python",
   "nbconvert_exporter": "python",
   "pygments_lexer": "ipython3",
   "version": "3.7.3"
  }
 },
 "nbformat": 4,
 "nbformat_minor": 2
}
